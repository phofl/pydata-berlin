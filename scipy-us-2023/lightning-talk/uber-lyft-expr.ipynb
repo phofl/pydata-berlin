{
 "cells": [
  {
   "cell_type": "markdown",
   "id": "2678d8cc-a6e8-402d-bde4-baaf7adc8c2a",
   "metadata": {},
   "source": [
    "# Optimization 3: Query Optimization\n"
   ]
  },
  {
   "cell_type": "markdown",
   "id": "fe5cb490-3b8e-42a5-b3e0-6e37fd6b16f8",
   "metadata": {},
   "source": [
    "Historically Dask has focused on being flexible with smart scheduling rather than focus on query optimization\n",
    "\n",
    "- High Level (logical plan): Spark ✅ Dask ❌\n",
    "- Low Level (physical plan): Spark ❌ Dask ✅\n",
    "\n",
    "We're building back in logical plans for Dask Array / DataFrame / Xarray now"
   ]
  },
  {
   "cell_type": "code",
   "execution_count": 3,
   "id": "c58a2448-c811-48b3-b0d7-778013e96f0e",
   "metadata": {},
   "outputs": [],
   "source": [
    "import dask\n",
    "import dask.dataframe as dd\n",
    "import dask_expr as dx\n",
    "\n",
    "dask.config.set({\"dataframe.convert-string\": True})\n",
    "\n",
    "\n",
    "df = dd.read_parquet(\"taxi.parquet\")\n",
    "out = df[df.tips != 0].sum(numeric_only=True)[\"tips\"]"
   ]
  },
  {
   "cell_type": "code",
   "execution_count": 2,
   "id": "2f94b0e5-35d1-4d1b-b2ab-4a52023461c2",
   "metadata": {},
   "outputs": [
    {
     "name": "stdout",
     "output_type": "stream",
     "text": [
      "CPU times: user 5.25 s, sys: 1.38 s, total: 6.63 s\n",
      "Wall time: 6.65 s\n"
     ]
    },
    {
     "data": {
      "text/plain": [
       "tips    23528836.72\n",
       "dtype: float64"
      ]
     },
     "execution_count": 2,
     "metadata": {},
     "output_type": "execute_result"
    }
   ],
   "source": [
    "%time out.compute()\n"
   ]
  },
  {
   "cell_type": "code",
   "execution_count": 9,
   "id": "2fd96d62-d7ce-4a0a-9d13-12d111c1fcca",
   "metadata": {},
   "outputs": [],
   "source": [
    "df = dx.read_parquet(\"taxi.parquet\")\n",
    "out = df[df.tips != 0].sum(numeric_only=True)[\"driver_pay\"]"
   ]
  },
  {
   "cell_type": "code",
   "execution_count": 10,
   "id": "f08f2016-bc2e-4d90-b8d5-2690db8012fd",
   "metadata": {},
   "outputs": [
    {
     "name": "stdout",
     "output_type": "stream",
     "text": [
      "CPU times: user 427 ms, sys: 47.2 ms, total: 474 ms\n",
      "Wall time: 472 ms\n"
     ]
    },
    {
     "data": {
      "text/plain": [
       "89761049.07999997"
      ]
     },
     "execution_count": 10,
     "metadata": {},
     "output_type": "execute_result"
    }
   ],
   "source": [
    "%time out.compute()"
   ]
  },
  {
   "cell_type": "code",
   "execution_count": 17,
   "id": "059b4f47-f7b5-476a-85ba-50c551f247f2",
   "metadata": {},
   "outputs": [
    {
     "data": {
      "text/plain": [
       "<dask_expr.expr.Scalar: expr=((Filter(frame=ReadParquet(83d11fd), predicate=ReadParquet(83d11fd)['tips'] != 0)).sum(numeric_only=True))['driver_pay']>"
      ]
     },
     "execution_count": 17,
     "metadata": {},
     "output_type": "execute_result"
    }
   ],
   "source": [
    "out"
   ]
  },
  {
   "cell_type": "code",
   "execution_count": 16,
   "id": "893f6f22-a084-4a78-bedb-99b695229019",
   "metadata": {},
   "outputs": [
    {
     "name": "stdout",
     "output_type": "stream",
     "text": [
      "Projection: columns='driver_pay'\n",
      "  Sum: numeric_only=True\n",
      "    Filter:\n",
      "      ReadParquet: path='taxi.parquet' kwargs={'dtype_backend': None}\n",
      "      NE: right=0\n",
      "        Projection: columns='tips'\n",
      "          ReadParquet: path='taxi.parquet' kwargs={'dtype_backend': None}\n"
     ]
    }
   ],
   "source": [
    "out.pprint()"
   ]
  },
  {
   "cell_type": "code",
   "execution_count": 15,
   "id": "bbb1a960-742b-4ce9-ab4e-282e4b639c52",
   "metadata": {},
   "outputs": [
    {
     "name": "stdout",
     "output_type": "stream",
     "text": [
      "Sum: numeric_only=True\n",
      "  ReadParquet: path='taxi.parquet' columns=['driver_pay'] filters=[[('tips', '!=', 0)]] kwargs={'dtype_backend': None} _series=True\n"
     ]
    }
   ],
   "source": [
    "out.simplify().pprint()"
   ]
  },
  {
   "cell_type": "code",
   "execution_count": null,
   "id": "dedcbecf-3b88-49a8-af95-537c4c848123",
   "metadata": {},
   "outputs": [],
   "source": []
  },
  {
   "cell_type": "code",
   "execution_count": null,
   "id": "d03efe3c-c956-412f-a57a-3c2c47d8c9f3",
   "metadata": {},
   "outputs": [],
   "source": []
  },
  {
   "cell_type": "code",
   "execution_count": null,
   "id": "aa7d4c07-67ea-4e22-bcae-9a28862ec70a",
   "metadata": {},
   "outputs": [],
   "source": []
  },
  {
   "cell_type": "code",
   "execution_count": null,
   "id": "5519e844-2ba7-4d1a-bff4-cf8a879b6b30",
   "metadata": {},
   "outputs": [],
   "source": []
  },
  {
   "cell_type": "code",
   "execution_count": null,
   "id": "96e652cd-b1d1-457c-8a3f-7d0b375fcfc4",
   "metadata": {},
   "outputs": [],
   "source": []
  },
  {
   "cell_type": "markdown",
   "id": "f8eafed2-77a1-4691-8e8b-aeb1187ce8f5",
   "metadata": {
    "tags": []
   },
   "source": [
    "NYC Uber/Lyft Rides\n",
    "===================\n",
    "\n",
    "The NYC Taxi dataset is a timeless classic.  \n",
    "\n",
    "Interestingly there is a new variant.  The NYC Taxi and Livery Commission requires data from all ride-share services in the city of New York.  This includes private limosine services, van services, and a new category \"High Volume For Hire Vehicle\" services, those that dispatch 10,000 rides per day or more.  This is a special category defined for Uber and Lyft.  \n",
    "\n",
    "This data is available here:"
   ]
  },
  {
   "cell_type": "code",
   "execution_count": 57,
   "id": "9a9e6076-c8b3-4282-90a4-0fe3ab49440d",
   "metadata": {
    "tags": []
   },
   "outputs": [
    {
     "data": {
      "application/vnd.jupyter.widget-view+json": {
       "model_id": "f37f91d5f05f454787722a719ef1422a",
       "version_major": 2,
       "version_minor": 0
      },
      "text/plain": [
       "Output()"
      ]
     },
     "metadata": {},
     "output_type": "display_data"
    },
    {
     "data": {
      "text/html": [
       "<pre style=\"white-space:pre;overflow-x:auto;line-height:normal;font-family:Menlo,'DejaVu Sans Mono',consolas,'Courier New',monospace\">boto3 1.27.1 has requirement botocore&lt;1.31.0,&gt;=1.30.1, but you have botocore 1.29.161.\n",
       "</pre>\n"
      ],
      "text/plain": [
       "boto3 1.27.1 has requirement botocore<1.31.0,>=1.30.1, but you have botocore 1.29.161.\n"
      ]
     },
     "metadata": {},
     "output_type": "display_data"
    },
    {
     "data": {
      "text/html": [
       "<pre style=\"white-space:pre;overflow-x:auto;line-height:normal;font-family:Menlo,'DejaVu Sans Mono',consolas,'Courier New',monospace\">Package - boto3, Pip check had the following issues that need resolving: \n",
       "boto3 1.27.1 has requirement botocore&lt;1.31.0,&gt;=1.30.1, but you have botocore 1.29.161.\n",
       "</pre>\n"
      ],
      "text/plain": [
       "Package - boto3, Pip check had the following issues that need resolving: \n",
       "boto3 1.27.1 has requirement botocore<1.31.0,>=1.30.1, but you have botocore 1.29.161.\n"
      ]
     },
     "metadata": {},
     "output_type": "display_data"
    },
    {
     "data": {
      "text/html": [
       "<pre style=\"white-space:pre;overflow-x:auto;line-height:normal;font-family:Menlo,'DejaVu Sans Mono',consolas,'Courier New',monospace\"></pre>\n"
      ],
      "text/plain": []
     },
     "metadata": {},
     "output_type": "display_data"
    },
    {
     "data": {
      "text/html": [
       "<pre style=\"white-space:pre;overflow-x:auto;line-height:normal;font-family:Menlo,'DejaVu Sans Mono',consolas,'Courier New',monospace\">╭────────────────────────────────────────── <span style=\"color: #008000; text-decoration-color: #008000; font-weight: bold\">Package Info</span> ──────────────────────────────────────────╮\n",
       "│               ╷                                                                                  │\n",
       "│  <span style=\"font-weight: bold\"> Package     </span>│<span style=\"font-weight: bold\"> Note                                                                           </span>  │\n",
       "│ ╶─────────────┼────────────────────────────────────────────────────────────────────────────────╴ │\n",
       "│   dask        │ Wheel built from                                                                 │\n",
       "│               │ git+https://github.com/dask/dask@5a39a378d8b0d99dbfe51de37b36b4ece029d486        │\n",
       "│   dask-expr   │ Wheel built from /Users/patrick/PycharmProjects/dask_dev/dask-expr is missing    │\n",
       "│               │ dask_expr/align.py, setup.py                                                     │\n",
       "│   distributed │ Wheel built from                                                                 │\n",
       "│               │ git+https://github.com/dask/distributed@566fd1f7edb186a67ed1fde8312bb0f3e9a52d   │\n",
       "│               │ e4                                                                               │\n",
       "│               ╵                                                                                  │\n",
       "╰──────────────────────────────────────────────────────────────────────────────────────────────────╯\n",
       "</pre>\n"
      ],
      "text/plain": [
       "╭────────────────────────────────────────── \u001b[1;32mPackage Info\u001b[0m ──────────────────────────────────────────╮\n",
       "│               ╷                                                                                  │\n",
       "│  \u001b[1m \u001b[0m\u001b[1mPackage    \u001b[0m\u001b[1m \u001b[0m│\u001b[1m \u001b[0m\u001b[1mNote                                                                          \u001b[0m\u001b[1m \u001b[0m  │\n",
       "│ ╶─────────────┼────────────────────────────────────────────────────────────────────────────────╴ │\n",
       "│   dask        │ Wheel built from                                                                 │\n",
       "│               │ git+https://github.com/dask/dask@5a39a378d8b0d99dbfe51de37b36b4ece029d486        │\n",
       "│   dask-expr   │ Wheel built from /Users/patrick/PycharmProjects/dask_dev/dask-expr is missing    │\n",
       "│               │ dask_expr/align.py, setup.py                                                     │\n",
       "│   distributed │ Wheel built from                                                                 │\n",
       "│               │ git+https://github.com/dask/distributed@566fd1f7edb186a67ed1fde8312bb0f3e9a52d   │\n",
       "│               │ e4                                                                               │\n",
       "│               ╵                                                                                  │\n",
       "╰──────────────────────────────────────────────────────────────────────────────────────────────────╯\n"
      ]
     },
     "metadata": {},
     "output_type": "display_data"
    },
    {
     "data": {
      "text/html": [
       "<pre style=\"white-space:pre;overflow-x:auto;line-height:normal;font-family:Menlo,'DejaVu Sans Mono',consolas,'Courier New',monospace\">╭──────────────────────────────────── <span style=\"color: #800000; text-decoration-color: #800000; font-weight: bold\">Not Synced with Cluster</span> ─────────────────────────────────────╮\n",
       "│           ╷                                                                          ╷           │\n",
       "│  <span style=\"font-weight: bold\"> Package </span>│<span style=\"font-weight: bold\"> Error                                                                    </span>│<span style=\"font-weight: bold\"> Risk    </span>  │\n",
       "│ ╶─────────┼──────────────────────────────────────────────────────────────────────────┼─────────╴ │\n",
       "│   boto3   │ Pip check had the following issues that need resolving:                  │ Warning   │\n",
       "│           │ boto3 1.27.1 has requirement botocore&lt;1.31.0,&gt;=1.30.1, but you have      │           │\n",
       "│           │ botocore 1.29.161.                                                       │           │\n",
       "│           ╵                                                                          ╵           │\n",
       "╰──────────────────────────────────────────────────────────────────────────────────────────────────╯\n",
       "</pre>\n"
      ],
      "text/plain": [
       "╭──────────────────────────────────── \u001b[1;31mNot Synced with Cluster\u001b[0m ─────────────────────────────────────╮\n",
       "│           ╷                                                                          ╷           │\n",
       "│  \u001b[1m \u001b[0m\u001b[1mPackage\u001b[0m\u001b[1m \u001b[0m│\u001b[1m \u001b[0m\u001b[1mError                                                                   \u001b[0m\u001b[1m \u001b[0m│\u001b[1m \u001b[0m\u001b[1mRisk   \u001b[0m\u001b[1m \u001b[0m  │\n",
       "│ ╶─────────┼──────────────────────────────────────────────────────────────────────────┼─────────╴ │\n",
       "│   boto3   │ Pip check had the following issues that need resolving:                  │ Warning   │\n",
       "│           │ boto3 1.27.1 has requirement botocore<1.31.0,>=1.30.1, but you have      │           │\n",
       "│           │ botocore 1.29.161.                                                       │           │\n",
       "│           ╵                                                                          ╵           │\n",
       "╰──────────────────────────────────────────────────────────────────────────────────────────────────╯\n"
      ]
     },
     "metadata": {},
     "output_type": "display_data"
    },
    {
     "data": {
      "application/vnd.jupyter.widget-view+json": {
       "model_id": "a44e8c027ea54429848051b0218d644f",
       "version_major": 2,
       "version_minor": 0
      },
      "text/plain": [
       "Output()"
      ]
     },
     "metadata": {},
     "output_type": "display_data"
    },
    {
     "data": {
      "text/html": [
       "<pre style=\"white-space:pre;overflow-x:auto;line-height:normal;font-family:Menlo,'DejaVu Sans Mono',consolas,'Courier New',monospace\"></pre>\n"
      ],
      "text/plain": []
     },
     "metadata": {},
     "output_type": "display_data"
    }
   ],
   "source": [
    "import coiled\n",
    "\n",
    "cluster = coiled.Cluster(\n",
    "    n_workers=15,\n",
    "    name=\"uber-lyft-dask-expr-2\",\n",
    "    region=\"us-east-2\",\n",
    "    shutdown_on_close=False,\n",
    "    account=\"dask-engineering\",\n",
    ")\n",
    "\n",
    "client = cluster.get_client()"
   ]
  },
  {
   "cell_type": "code",
   "execution_count": 25,
   "id": "33b598a4-fe0a-43c5-8007-0e955ac193f9",
   "metadata": {},
   "outputs": [
    {
     "name": "stdout",
     "output_type": "stream",
     "text": [
      "CPU times: user 319 ms, sys: 37.1 ms, total: 356 ms\n",
      "Wall time: 34.5 s\n"
     ]
    },
    {
     "data": {
      "text/plain": [
       "tipped                 1.245332e+08\n",
       "dp_gt                  7.477930e+08\n",
       "bpf_lt                 1.208497e+06\n",
       "tips                   2.138438e+09\n",
       "base_passenger_fare    1.581905e+10\n",
       "driver_pay             1.279459e+10\n",
       "dtype: float64"
      ]
     },
     "execution_count": 25,
     "metadata": {},
     "output_type": "execute_result"
    }
   ],
   "source": [
    "%%time\n",
    "\n",
    "import dask\n",
    "import pandas as pd\n",
    "from dask_expr import read_parquet\n",
    "\n",
    "dask.config.set({\"dataframe.convert-string\": True})\n",
    "\n",
    "df = read_parquet(\n",
    "    \"s3://coiled-datasets/uber-lyft-tlc/\",\n",
    "    storage_options={\"anon\": True},\n",
    ")\n",
    "\n",
    "df = df.replace(1, 100).fillna({\"tips\": 100, \"driver_pay\": 100, \"base_passenger_fare\": 100})\n",
    "\n",
    "df[\"tipped\"] = df.tips != 0\n",
    "df[\"dp_gt\"] = df.driver_pay > 0\n",
    "df[\"bpf_lt\"] = df.base_passenger_fare < 0\n",
    "\n",
    "q = df[[\"tipped\", \"dp_gt\", \"bpf_lt\", \"tips\", \"base_passenger_fare\", \"driver_pay\"]].sum()\n",
    "q.compute()"
   ]
  },
  {
   "cell_type": "code",
   "execution_count": 56,
   "id": "27afd66a-09e2-41cf-919d-38403948aadc",
   "metadata": {},
   "outputs": [
    {
     "data": {
      "text/plain": [
       "1442"
      ]
     },
     "execution_count": 56,
     "metadata": {},
     "output_type": "execute_result"
    },
    {
     "name": "stderr",
     "output_type": "stream",
     "text": [
      "2023-07-07 22:00:33,259 - distributed.client - ERROR - Failed to reconnect to scheduler after 30.00 seconds, closing client\n"
     ]
    }
   ],
   "source": [
    "import numpy as np\n",
    "\n",
    "\n",
    "df = read_parquet(\n",
    "    \"s3://coiled-datasets/uber-lyft-tlc/\",\n",
    "    storage_options={\"anon\": True},\n",
    ")\n",
    "df = df.replace(1, 100).select_dtypes(include=[np.number]).fillna(100)\n",
    "#df[\"tipped\"] = df.tips != 0\n",
    "#df[\"dp\"] = df.driver_pay != 0\n",
    "\n",
    "\n",
    "q = df[[\"tips\", \"driver_pay\"]].sum()\n",
    "\n",
    "len(q.optimize(fuse=True).__dask_graph__())\n"
   ]
  },
  {
   "cell_type": "code",
   "execution_count": 53,
   "id": "604d12e1-b4c5-41f5-9b23-9f1a0c3e3e11",
   "metadata": {},
   "outputs": [
    {
     "name": "stdout",
     "output_type": "stream",
     "text": [
      "CPU times: user 126 ms, sys: 10.3 ms, total: 137 ms\n",
      "Wall time: 5.87 s\n"
     ]
    },
    {
     "data": {
      "text/plain": [
       "tipped        1.245332e+08\n",
       "dp            7.478095e+08\n",
       "tips          2.138438e+09\n",
       "driver_pay    1.279459e+10\n",
       "dtype: float64"
      ]
     },
     "execution_count": 53,
     "metadata": {},
     "output_type": "execute_result"
    }
   ],
   "source": [
    "%%time\n",
    "\n"
   ]
  },
  {
   "cell_type": "code",
   "execution_count": null,
   "id": "d6f89564-d218-4f8e-b662-584c9af06720",
   "metadata": {},
   "outputs": [],
   "source": []
  }
 ],
 "metadata": {
  "kernelspec": {
   "display_name": "Python 3 (ipykernel)",
   "language": "python",
   "name": "python3"
  },
  "language_info": {
   "codemirror_mode": {
    "name": "ipython",
    "version": 3
   },
   "file_extension": ".py",
   "mimetype": "text/x-python",
   "name": "python",
   "nbconvert_exporter": "python",
   "pygments_lexer": "ipython3",
   "version": "3.11.3"
  }
 },
 "nbformat": 4,
 "nbformat_minor": 5
}
