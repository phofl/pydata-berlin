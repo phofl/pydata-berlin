{
 "cells": [
  {
   "cell_type": "markdown",
   "id": "f8eafed2-77a1-4691-8e8b-aeb1187ce8f5",
   "metadata": {
    "tags": []
   },
   "source": [
    "NYC Uber/Lyft Rides\n",
    "===================\n",
    "\n",
    "The NYC Taxi dataset is a timeless classic.  \n",
    "\n",
    "Interestingly there is a new variant.  The NYC Taxi and Livery Commission requires data from all ride-share services in the city of New York.  This includes private limosine services, van services, and a new category \"High Volume For Hire Vehicle\" services, those that dispatch 10,000 rides per day or more.  This is a special category defined for Uber and Lyft.  \n",
    "\n",
    "This data is available here:"
   ]
  },
  {
   "cell_type": "code",
   "execution_count": 1,
   "id": "9a9e6076-c8b3-4282-90a4-0fe3ab49440d",
   "metadata": {
    "tags": []
   },
   "outputs": [
    {
     "data": {
      "application/vnd.jupyter.widget-view+json": {
       "model_id": "6040accc819649ea8238b1ece98b367e",
       "version_major": 2,
       "version_minor": 0
      },
      "text/plain": [
       "Output()"
      ]
     },
     "metadata": {},
     "output_type": "display_data"
    },
    {
     "data": {
      "text/html": [
       "<pre style=\"white-space:pre;overflow-x:auto;line-height:normal;font-family:Menlo,'DejaVu Sans Mono',consolas,'Courier New',monospace\">boto3 1.27.1 has requirement botocore&lt;1.31.0,&gt;=1.30.1, but you have botocore 1.29.161.\n",
       "</pre>\n"
      ],
      "text/plain": [
       "boto3 1.27.1 has requirement botocore<1.31.0,>=1.30.1, but you have botocore 1.29.161.\n"
      ]
     },
     "metadata": {},
     "output_type": "display_data"
    },
    {
     "data": {
      "text/html": [
       "<pre style=\"white-space:pre;overflow-x:auto;line-height:normal;font-family:Menlo,'DejaVu Sans Mono',consolas,'Courier New',monospace\">Package - boto3, Pip check had the following issues that need resolving: \n",
       "boto3 1.27.1 has requirement botocore&lt;1.31.0,&gt;=1.30.1, but you have botocore 1.29.161.\n",
       "</pre>\n"
      ],
      "text/plain": [
       "Package - boto3, Pip check had the following issues that need resolving: \n",
       "boto3 1.27.1 has requirement botocore<1.31.0,>=1.30.1, but you have botocore 1.29.161.\n"
      ]
     },
     "metadata": {},
     "output_type": "display_data"
    },
    {
     "data": {
      "text/html": [
       "<pre style=\"white-space:pre;overflow-x:auto;line-height:normal;font-family:Menlo,'DejaVu Sans Mono',consolas,'Courier New',monospace\"></pre>\n"
      ],
      "text/plain": []
     },
     "metadata": {},
     "output_type": "display_data"
    },
    {
     "data": {
      "text/html": [
       "<pre style=\"white-space:pre;overflow-x:auto;line-height:normal;font-family:Menlo,'DejaVu Sans Mono',consolas,'Courier New',monospace\">╭────────────────────────────────────────── <span style=\"color: #008000; text-decoration-color: #008000; font-weight: bold\">Package Info</span> ──────────────────────────────────────────╮\n",
       "│               ╷                                                                                  │\n",
       "│  <span style=\"font-weight: bold\"> Package     </span>│<span style=\"font-weight: bold\"> Note                                                                           </span>  │\n",
       "│ ╶─────────────┼────────────────────────────────────────────────────────────────────────────────╴ │\n",
       "│   dask        │ Wheel built from                                                                 │\n",
       "│               │ git+https://github.com/dask/dask@5a39a378d8b0d99dbfe51de37b36b4ece029d486        │\n",
       "│   dask-expr   │ Wheel built from /Users/patrick/PycharmProjects/dask_dev/dask-expr is missing    │\n",
       "│               │ setup.py                                                                         │\n",
       "│   distributed │ Wheel built from                                                                 │\n",
       "│               │ git+https://github.com/dask/distributed@566fd1f7edb186a67ed1fde8312bb0f3e9a52d   │\n",
       "│               │ e4                                                                               │\n",
       "│               ╵                                                                                  │\n",
       "╰──────────────────────────────────────────────────────────────────────────────────────────────────╯\n",
       "</pre>\n"
      ],
      "text/plain": [
       "╭────────────────────────────────────────── \u001b[1;32mPackage Info\u001b[0m ──────────────────────────────────────────╮\n",
       "│               ╷                                                                                  │\n",
       "│  \u001b[1m \u001b[0m\u001b[1mPackage    \u001b[0m\u001b[1m \u001b[0m│\u001b[1m \u001b[0m\u001b[1mNote                                                                          \u001b[0m\u001b[1m \u001b[0m  │\n",
       "│ ╶─────────────┼────────────────────────────────────────────────────────────────────────────────╴ │\n",
       "│   dask        │ Wheel built from                                                                 │\n",
       "│               │ git+https://github.com/dask/dask@5a39a378d8b0d99dbfe51de37b36b4ece029d486        │\n",
       "│   dask-expr   │ Wheel built from /Users/patrick/PycharmProjects/dask_dev/dask-expr is missing    │\n",
       "│               │ setup.py                                                                         │\n",
       "│   distributed │ Wheel built from                                                                 │\n",
       "│               │ git+https://github.com/dask/distributed@566fd1f7edb186a67ed1fde8312bb0f3e9a52d   │\n",
       "│               │ e4                                                                               │\n",
       "│               ╵                                                                                  │\n",
       "╰──────────────────────────────────────────────────────────────────────────────────────────────────╯\n"
      ]
     },
     "metadata": {},
     "output_type": "display_data"
    },
    {
     "data": {
      "text/html": [
       "<pre style=\"white-space:pre;overflow-x:auto;line-height:normal;font-family:Menlo,'DejaVu Sans Mono',consolas,'Courier New',monospace\">╭──────────────────────────────────── <span style=\"color: #800000; text-decoration-color: #800000; font-weight: bold\">Not Synced with Cluster</span> ─────────────────────────────────────╮\n",
       "│           ╷                                                                          ╷           │\n",
       "│  <span style=\"font-weight: bold\"> Package </span>│<span style=\"font-weight: bold\"> Error                                                                    </span>│<span style=\"font-weight: bold\"> Risk    </span>  │\n",
       "│ ╶─────────┼──────────────────────────────────────────────────────────────────────────┼─────────╴ │\n",
       "│   boto3   │ Pip check had the following issues that need resolving:                  │ Warning   │\n",
       "│           │ boto3 1.27.1 has requirement botocore&lt;1.31.0,&gt;=1.30.1, but you have      │           │\n",
       "│           │ botocore 1.29.161.                                                       │           │\n",
       "│           ╵                                                                          ╵           │\n",
       "╰──────────────────────────────────────────────────────────────────────────────────────────────────╯\n",
       "</pre>\n"
      ],
      "text/plain": [
       "╭──────────────────────────────────── \u001b[1;31mNot Synced with Cluster\u001b[0m ─────────────────────────────────────╮\n",
       "│           ╷                                                                          ╷           │\n",
       "│  \u001b[1m \u001b[0m\u001b[1mPackage\u001b[0m\u001b[1m \u001b[0m│\u001b[1m \u001b[0m\u001b[1mError                                                                   \u001b[0m\u001b[1m \u001b[0m│\u001b[1m \u001b[0m\u001b[1mRisk   \u001b[0m\u001b[1m \u001b[0m  │\n",
       "│ ╶─────────┼──────────────────────────────────────────────────────────────────────────┼─────────╴ │\n",
       "│   boto3   │ Pip check had the following issues that need resolving:                  │ Warning   │\n",
       "│           │ boto3 1.27.1 has requirement botocore<1.31.0,>=1.30.1, but you have      │           │\n",
       "│           │ botocore 1.29.161.                                                       │           │\n",
       "│           ╵                                                                          ╵           │\n",
       "╰──────────────────────────────────────────────────────────────────────────────────────────────────╯\n"
      ]
     },
     "metadata": {},
     "output_type": "display_data"
    },
    {
     "data": {
      "application/vnd.jupyter.widget-view+json": {
       "model_id": "f821f6cb3ff243daae4b4afaf17c8cbd",
       "version_major": 2,
       "version_minor": 0
      },
      "text/plain": [
       "Output()"
      ]
     },
     "metadata": {},
     "output_type": "display_data"
    },
    {
     "data": {
      "text/html": [
       "<pre style=\"white-space:pre;overflow-x:auto;line-height:normal;font-family:Menlo,'DejaVu Sans Mono',consolas,'Courier New',monospace\"></pre>\n"
      ],
      "text/plain": []
     },
     "metadata": {},
     "output_type": "display_data"
    }
   ],
   "source": [
    "import coiled\n",
    "\n",
    "cluster = coiled.Cluster(\n",
    "    n_workers=15,\n",
    "    name=\"uber-lyft\",\n",
    "    region=\"us-east-2\",\n",
    "    shutdown_on_close=False,\n",
    "    account=\"dask-engineering\",\n",
    ")\n",
    "\n",
    "client = cluster.get_client()"
   ]
  },
  {
   "cell_type": "code",
   "execution_count": 8,
   "id": "95a96932-2109-447c-9eb3-0d235de5e973",
   "metadata": {},
   "outputs": [
    {
     "data": {
      "text/plain": [
       "hvfhs_license_num\n",
       "HV0002    0.084400\n",
       "HV0003    0.149856\n",
       "HV0004    0.092949\n",
       "HV0005    0.191230\n",
       "Name: tipped, dtype: float64"
      ]
     },
     "execution_count": 8,
     "metadata": {},
     "output_type": "execute_result"
    },
    {
     "name": "stderr",
     "output_type": "stream",
     "text": [
      "2023-07-07 11:20:19,549 - distributed.client - ERROR - Failed to reconnect to scheduler after 30.00 seconds, closing client\n",
      "2023-07-07 11:22:32,376 - distributed.deploy.cluster - WARNING - Failed to sync cluster info multiple times - perhaps there's a connection issue? Error:\n",
      "Traceback (most recent call last):\n",
      "  File \"/Users/patrick/mambaforge/envs/dask-expr/lib/python3.11/site-packages/distributed/utils.py\", line 1919, in wait_for\n",
      "    return await fut\n",
      "           ^^^^^^^^^\n",
      "  File \"/Users/patrick/mambaforge/envs/dask-expr/lib/python3.11/site-packages/distributed/comm/tcp.py\", line 491, in connect\n",
      "    stream = await self.client.connect(\n",
      "             ^^^^^^^^^^^^^^^^^^^^^^^^^^\n",
      "  File \"/Users/patrick/mambaforge/envs/dask-expr/lib/python3.11/site-packages/tornado/tcpclient.py\", line 279, in connect\n",
      "    af, addr, stream = await connector.start(connect_timeout=timeout)\n",
      "                       ^^^^^^^^^^^^^^^^^^^^^^^^^^^^^^^^^^^^^^^^^^^^^^\n",
      "asyncio.exceptions.CancelledError\n",
      "\n",
      "The above exception was the direct cause of the following exception:\n",
      "\n",
      "Traceback (most recent call last):\n",
      "  File \"/Users/patrick/mambaforge/envs/dask-expr/lib/python3.11/site-packages/distributed/comm/core.py\", line 355, in connect\n",
      "    comm = await wait_for(\n",
      "           ^^^^^^^^^^^^^^^\n",
      "  File \"/Users/patrick/mambaforge/envs/dask-expr/lib/python3.11/site-packages/distributed/utils.py\", line 1918, in wait_for\n",
      "    async with asyncio.timeout(timeout):\n",
      "  File \"/Users/patrick/mambaforge/envs/dask-expr/lib/python3.11/asyncio/timeouts.py\", line 111, in __aexit__\n",
      "    raise TimeoutError from exc_val\n",
      "TimeoutError\n",
      "\n",
      "The above exception was the direct cause of the following exception:\n",
      "\n",
      "Traceback (most recent call last):\n",
      "  File \"/Users/patrick/mambaforge/envs/dask-expr/lib/python3.11/site-packages/distributed/deploy/cluster.py\", line 168, in _sync_cluster_info\n",
      "    await self.scheduler_comm.set_metadata(\n",
      "  File \"/Users/patrick/mambaforge/envs/dask-expr/lib/python3.11/site-packages/distributed/core.py\", line 1294, in send_recv_from_rpc\n",
      "    comm = await self.live_comm()\n",
      "           ^^^^^^^^^^^^^^^^^^^^^^\n",
      "  File \"/Users/patrick/mambaforge/envs/dask-expr/lib/python3.11/site-packages/distributed/core.py\", line 1253, in live_comm\n",
      "    comm = await connect(\n",
      "           ^^^^^^^^^^^^^^\n",
      "  File \"/Users/patrick/mambaforge/envs/dask-expr/lib/python3.11/site-packages/distributed/comm/core.py\", line 381, in connect\n",
      "    raise OSError(\n",
      "OSError: Timed out trying to connect to tls://18.222.46.136:8786 after 30 s\n",
      "error sending AWS credentials to cluster: Timed out trying to connect to tls://18.222.46.136:8786 after 30 s\n"
     ]
    }
   ],
   "source": [
    "import dask\n",
    "import pandas as pd\n",
    "import dask.dataframe as dd\n",
    "\n",
    "dask.config.set({\"dataframe.convert-string\": True})\n",
    "\n",
    "df = dd.read_parquet(\n",
    "    \"s3://coiled-datasets/uber-lyft-tlc/\",\n",
    "    storage_options={\"anon\": True},\n",
    ")\n",
    "df[\"tipped\"] = df[\"tips\"] != 0\n",
    "df.groupby(\"hvfhs_license_num\").tipped.mean().compute()"
   ]
  },
  {
   "cell_type": "code",
   "execution_count": null,
   "id": "dfc2dfd0-869e-452e-b8e6-8418de90c6f5",
   "metadata": {},
   "outputs": [],
   "source": []
  }
 ],
 "metadata": {
  "kernelspec": {
   "display_name": "Python 3 (ipykernel)",
   "language": "python",
   "name": "python3"
  },
  "language_info": {
   "codemirror_mode": {
    "name": "ipython",
    "version": 3
   },
   "file_extension": ".py",
   "mimetype": "text/x-python",
   "name": "python",
   "nbconvert_exporter": "python",
   "pygments_lexer": "ipython3",
   "version": "3.11.3"
  }
 },
 "nbformat": 4,
 "nbformat_minor": 5
}
